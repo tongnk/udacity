{
 "cells": [
  {
   "cell_type": "markdown",
   "metadata": {},
   "source": [
    "# Project: Investigating Brazillian No-Show Medical Appointments \n",
    "\n",
    "## Table of Contents\n",
    "<ul>\n",
    "<li><a href=\"#intro\">Introduction</a></li>\n",
    "<li><a href=\"#wrangling\">Data Wrangling</a></li>\n",
    "<li><a href=\"#eda\">Exploratory Data Analysis</a></li>\n",
    "<li><a href=\"#conclusion\">Conclusions</a></li>\n",
    "</ul>"
   ]
  },
  {
   "cell_type": "markdown",
   "metadata": {},
   "source": [
    "<a id='intro'></a>\n",
    "## Introduction\n",
    "\n",
    "<p>\n",
    "    This report attempts to explore a dataset containing 100k medical appointments in Brazil and aims to understand the contributing factors that determines if a patient attends the appointment. First, the data needs to be cleaned, the steps are detailed in the data wrangling section. Next, a series of hypotheses are presented that attempt to find correlations between the various variables. Finally, these questions are discussed and the findings are presented.\n",
    "</p>\n",
    "\n",
    "Questions that we aim to answer are as follows:\n",
    "- Is there is any relationship between gender and the likelyhood the patient will show?\n",
    "- Is there a relationship between other individual traits (scholarship, hipertension, diabetes, alcoholism, handcap, sms received) and whether the customer shows?\n",
    "- Are there are any particular neighbourhoods that have a higher chance of showing?\n",
    "- Are there particular age brackets that are more likely to show?\n",
    "- Are there are any particular days or months that patients are more likely to show?\n",
    "- Are repeat patients more likely to show?\n",
    "- Given the above, can we look at the combination of 2 variables\n",
    "\n",
    "<p>\n",
    "   First, we should load pandas and numpy\n",
    "</p>"
   ]
  },
  {
   "cell_type": "code",
   "execution_count": 1,
   "metadata": {},
   "outputs": [],
   "source": [
    "import pandas as pd\n",
    "import numpy as np\n",
    "import seaborn as sns\n",
    "import matplotlib.pyplot as plt\n",
    "% matplotlib inline\n",
    "\n",
    "# Set the style for the graphs\n",
    "sns.set_style('darkgrid')"
   ]
  },
  {
   "cell_type": "markdown",
   "metadata": {},
   "source": [
    "## Data Wrangling\n",
    "\n",
    "<p>\n",
    "    Firstly, the dataset is loaded from the provided CSV file, and the key properties and types are displayed:\n",
    "</p>"
   ]
  },
  {
   "cell_type": "code",
   "execution_count": 2,
   "metadata": {},
   "outputs": [
    {
     "data": {
      "text/html": [
       "<div>\n",
       "<style scoped>\n",
       "    .dataframe tbody tr th:only-of-type {\n",
       "        vertical-align: middle;\n",
       "    }\n",
       "\n",
       "    .dataframe tbody tr th {\n",
       "        vertical-align: top;\n",
       "    }\n",
       "\n",
       "    .dataframe thead th {\n",
       "        text-align: right;\n",
       "    }\n",
       "</style>\n",
       "<table border=\"1\" class=\"dataframe\">\n",
       "  <thead>\n",
       "    <tr style=\"text-align: right;\">\n",
       "      <th></th>\n",
       "      <th>PatientId</th>\n",
       "      <th>AppointmentID</th>\n",
       "      <th>Gender</th>\n",
       "      <th>ScheduledDay</th>\n",
       "      <th>AppointmentDay</th>\n",
       "      <th>Age</th>\n",
       "      <th>Neighbourhood</th>\n",
       "      <th>Scholarship</th>\n",
       "      <th>Hipertension</th>\n",
       "      <th>Diabetes</th>\n",
       "      <th>Alcoholism</th>\n",
       "      <th>Handcap</th>\n",
       "      <th>SMS_received</th>\n",
       "      <th>No-show</th>\n",
       "    </tr>\n",
       "  </thead>\n",
       "  <tbody>\n",
       "    <tr>\n",
       "      <th>0</th>\n",
       "      <td>2.987250e+13</td>\n",
       "      <td>5642903</td>\n",
       "      <td>F</td>\n",
       "      <td>2016-04-29T18:38:08Z</td>\n",
       "      <td>2016-04-29T00:00:00Z</td>\n",
       "      <td>62</td>\n",
       "      <td>JARDIM DA PENHA</td>\n",
       "      <td>0</td>\n",
       "      <td>1</td>\n",
       "      <td>0</td>\n",
       "      <td>0</td>\n",
       "      <td>0</td>\n",
       "      <td>0</td>\n",
       "      <td>No</td>\n",
       "    </tr>\n",
       "    <tr>\n",
       "      <th>1</th>\n",
       "      <td>5.589978e+14</td>\n",
       "      <td>5642503</td>\n",
       "      <td>M</td>\n",
       "      <td>2016-04-29T16:08:27Z</td>\n",
       "      <td>2016-04-29T00:00:00Z</td>\n",
       "      <td>56</td>\n",
       "      <td>JARDIM DA PENHA</td>\n",
       "      <td>0</td>\n",
       "      <td>0</td>\n",
       "      <td>0</td>\n",
       "      <td>0</td>\n",
       "      <td>0</td>\n",
       "      <td>0</td>\n",
       "      <td>No</td>\n",
       "    </tr>\n",
       "    <tr>\n",
       "      <th>2</th>\n",
       "      <td>4.262962e+12</td>\n",
       "      <td>5642549</td>\n",
       "      <td>F</td>\n",
       "      <td>2016-04-29T16:19:04Z</td>\n",
       "      <td>2016-04-29T00:00:00Z</td>\n",
       "      <td>62</td>\n",
       "      <td>MATA DA PRAIA</td>\n",
       "      <td>0</td>\n",
       "      <td>0</td>\n",
       "      <td>0</td>\n",
       "      <td>0</td>\n",
       "      <td>0</td>\n",
       "      <td>0</td>\n",
       "      <td>No</td>\n",
       "    </tr>\n",
       "    <tr>\n",
       "      <th>3</th>\n",
       "      <td>8.679512e+11</td>\n",
       "      <td>5642828</td>\n",
       "      <td>F</td>\n",
       "      <td>2016-04-29T17:29:31Z</td>\n",
       "      <td>2016-04-29T00:00:00Z</td>\n",
       "      <td>8</td>\n",
       "      <td>PONTAL DE CAMBURI</td>\n",
       "      <td>0</td>\n",
       "      <td>0</td>\n",
       "      <td>0</td>\n",
       "      <td>0</td>\n",
       "      <td>0</td>\n",
       "      <td>0</td>\n",
       "      <td>No</td>\n",
       "    </tr>\n",
       "    <tr>\n",
       "      <th>4</th>\n",
       "      <td>8.841186e+12</td>\n",
       "      <td>5642494</td>\n",
       "      <td>F</td>\n",
       "      <td>2016-04-29T16:07:23Z</td>\n",
       "      <td>2016-04-29T00:00:00Z</td>\n",
       "      <td>56</td>\n",
       "      <td>JARDIM DA PENHA</td>\n",
       "      <td>0</td>\n",
       "      <td>1</td>\n",
       "      <td>1</td>\n",
       "      <td>0</td>\n",
       "      <td>0</td>\n",
       "      <td>0</td>\n",
       "      <td>No</td>\n",
       "    </tr>\n",
       "  </tbody>\n",
       "</table>\n",
       "</div>"
      ],
      "text/plain": [
       "      PatientId  AppointmentID Gender          ScheduledDay  \\\n",
       "0  2.987250e+13        5642903      F  2016-04-29T18:38:08Z   \n",
       "1  5.589978e+14        5642503      M  2016-04-29T16:08:27Z   \n",
       "2  4.262962e+12        5642549      F  2016-04-29T16:19:04Z   \n",
       "3  8.679512e+11        5642828      F  2016-04-29T17:29:31Z   \n",
       "4  8.841186e+12        5642494      F  2016-04-29T16:07:23Z   \n",
       "\n",
       "         AppointmentDay  Age      Neighbourhood  Scholarship  Hipertension  \\\n",
       "0  2016-04-29T00:00:00Z   62    JARDIM DA PENHA            0             1   \n",
       "1  2016-04-29T00:00:00Z   56    JARDIM DA PENHA            0             0   \n",
       "2  2016-04-29T00:00:00Z   62      MATA DA PRAIA            0             0   \n",
       "3  2016-04-29T00:00:00Z    8  PONTAL DE CAMBURI            0             0   \n",
       "4  2016-04-29T00:00:00Z   56    JARDIM DA PENHA            0             1   \n",
       "\n",
       "   Diabetes  Alcoholism  Handcap  SMS_received No-show  \n",
       "0         0           0        0             0      No  \n",
       "1         0           0        0             0      No  \n",
       "2         0           0        0             0      No  \n",
       "3         0           0        0             0      No  \n",
       "4         1           0        0             0      No  "
      ]
     },
     "execution_count": 2,
     "metadata": {},
     "output_type": "execute_result"
    }
   ],
   "source": [
    "rawDf = pd.read_csv('noshowappointments-kagglev2-may-2016.csv')\n",
    "\n",
    "rawDf.head()"
   ]
  },
  {
   "cell_type": "markdown",
   "metadata": {},
   "source": [
    "The key characteristics included in each row are:\n",
    "<ul>\n",
    "    <li><b>ScheduledDay</b> - The date that the patient booked the appointment</li>\n",
    "    <li><b>Neighborhood</b> - The location of the hospital</li>\n",
    "    <li><b>Scholarship</b> - Indicates if the patient is enrolled in Bolsa Familia, the Brasilian welfare program</li>\n",
    "    <li><b>Gender</b> - The gender of the patient</li>\n",
    "    <li><b>Age</b> - The age of the patient</li>\n",
    "    <li><b>No Show</b> - Indicates if the patient showed to the appointment - 'Yes' means the patient did not show up</li>\n",
    "</ul>"
   ]
  },
  {
   "cell_type": "markdown",
   "metadata": {},
   "source": [
    "<p>\n",
    "    The datatypes of the data set are as follows:\n",
    "</p>"
   ]
  },
  {
   "cell_type": "markdown",
   "metadata": {},
   "source": [
    "## General Properties\n",
    "This section will analyse the structure of the data to ensure, identify any outliers and discuss issues with the dataset. \n",
    "    \n",
    "First, the types of each column are listed"
   ]
  },
  {
   "cell_type": "code",
   "execution_count": 3,
   "metadata": {},
   "outputs": [
    {
     "name": "stdout",
     "output_type": "stream",
     "text": [
      "<class 'pandas.core.frame.DataFrame'>\n",
      "RangeIndex: 110527 entries, 0 to 110526\n",
      "Data columns (total 14 columns):\n",
      "PatientId         110527 non-null float64\n",
      "AppointmentID     110527 non-null int64\n",
      "Gender            110527 non-null object\n",
      "ScheduledDay      110527 non-null object\n",
      "AppointmentDay    110527 non-null object\n",
      "Age               110527 non-null int64\n",
      "Neighbourhood     110527 non-null object\n",
      "Scholarship       110527 non-null int64\n",
      "Hipertension      110527 non-null int64\n",
      "Diabetes          110527 non-null int64\n",
      "Alcoholism        110527 non-null int64\n",
      "Handcap           110527 non-null int64\n",
      "SMS_received      110527 non-null int64\n",
      "No-show           110527 non-null object\n",
      "dtypes: float64(1), int64(8), object(5)\n",
      "memory usage: 11.8+ MB\n"
     ]
    }
   ],
   "source": [
    "rawDf.info()"
   ]
  },
  {
   "cell_type": "markdown",
   "metadata": {},
   "source": [
    "<b style='color: red'>- No-show is boolean, represented as string</b> All other boolean fields are represented as int64, while the no-show field is a string. Also, the name no-show is a confusing name, this should ideally be renamed"
   ]
  },
  {
   "cell_type": "markdown",
   "metadata": {},
   "source": [
    "<hr />"
   ]
  },
  {
   "cell_type": "code",
   "execution_count": 4,
   "metadata": {},
   "outputs": [
    {
     "name": "stdout",
     "output_type": "stream",
     "text": [
      "AppointmentDay: str\n",
      "ScheduledDay: str\n"
     ]
    }
   ],
   "source": [
    "# It looks like some of these are objects, check the types to see if its a date or a string\n",
    "print(\"AppointmentDay: \" + type(rawDf['AppointmentDay'][0]).__name__)\n",
    "print(\"ScheduledDay: \" + type(rawDf['AppointmentDay'][0]).__name__)"
   ]
  },
  {
   "cell_type": "markdown",
   "metadata": {},
   "source": [
    "<b style='color: red'>- Date fields are strings</b> It looks like the AppointmentDay and ScheduledDay fields are both string representations of the date. This will make it difficult to analyse. These should be converted to Date objects"
   ]
  },
  {
   "cell_type": "markdown",
   "metadata": {},
   "source": [
    "<hr />"
   ]
  },
  {
   "cell_type": "markdown",
   "metadata": {},
   "source": [
    "Check the boolean fields to make sure they are all within range:"
   ]
  },
  {
   "cell_type": "code",
   "execution_count": 5,
   "metadata": {},
   "outputs": [
    {
     "name": "stdout",
     "output_type": "stream",
     "text": [
      "Gender: \n",
      "['F' 'M']\n",
      "\n",
      "Scholarship:\n",
      "[0 1]\n",
      "\n",
      "Hipertension:\n",
      "[1 0]\n",
      "\n",
      "Alcoholism:\n",
      "[0 1]\n",
      "\n",
      "Handcap:\n",
      "[0 1 2 3 4]\n",
      "\n",
      "Diabetes:\n",
      "[0 1]\n",
      "\n",
      "SMS_received:\n",
      "[0 1]\n"
     ]
    }
   ],
   "source": [
    "# Grab the unique Gender fields to make sure that they are all either M or F\n",
    "print(\"Gender: \")\n",
    "print(rawDf['Gender'].unique())\n",
    "\n",
    "# Get the scholarship fields to make sure they are either true (1) or false (0)\n",
    "print(\"\\nScholarship:\")\n",
    "print(rawDf['Scholarship'].unique())\n",
    "\n",
    "# Get the Hipertension fields to make sure they are either true (1) or false (0)\n",
    "print(\"\\nHipertension:\")\n",
    "print(rawDf['Hipertension'].unique())\n",
    "\n",
    "# Get the Alcoholism fields to make sure they are either true (1) or false (0)\n",
    "print(\"\\nAlcoholism:\")\n",
    "print(rawDf['Alcoholism'].unique())\n",
    "\n",
    "# Get the Handcap fields to make sure they are either true (1) or false (0)\n",
    "print(\"\\nHandcap:\")\n",
    "print(rawDf['Handcap'].unique())\n",
    "\n",
    "# Get the Diabetes fields to make sure they are either true (1) or false (0)\n",
    "print(\"\\nDiabetes:\")\n",
    "print(rawDf['Diabetes'].unique())\n",
    "\n",
    "# Get the SMS_received fields to make sure they are either true (1) or false (0)\n",
    "print(\"\\nSMS_received:\")\n",
    "print(rawDf['SMS_received'].unique())"
   ]
  },
  {
   "cell_type": "markdown",
   "metadata": {},
   "source": [
    "<b style='color: green'>+ Gender, Scholarship, Hipertension, Diabetes & SMS_received are within range</b>\n",
    "\n",
    "\n",
    "<b style='color: red'>- Handcap field contains non boolean values</b>  According to https://www.kaggle.com/joniarroba/noshowappointments the Handcap data should only be true or false"
   ]
  },
  {
   "cell_type": "markdown",
   "metadata": {},
   "source": [
    "<hr />"
   ]
  },
  {
   "cell_type": "markdown",
   "metadata": {},
   "source": [
    "Next, check the non boolean fields:"
   ]
  },
  {
   "cell_type": "code",
   "execution_count": 6,
   "metadata": {},
   "outputs": [
    {
     "name": "stdout",
     "output_type": "stream",
     "text": [
      "\n",
      "Neighbourhood:\n",
      "['JARDIM DA PENHA' 'MATA DA PRAIA' 'PONTAL DE CAMBURI' 'REPÚBLICA'\n",
      " 'GOIABEIRAS' 'ANDORINHAS' 'CONQUISTA' 'NOVA PALESTINA' 'DA PENHA'\n",
      " 'TABUAZEIRO' 'BENTO FERREIRA' 'SÃO PEDRO' 'SANTA MARTHA' 'SÃO CRISTÓVÃO'\n",
      " 'MARUÍPE' 'GRANDE VITÓRIA' 'SÃO BENEDITO' 'ILHA DAS CAIEIRAS'\n",
      " 'SANTO ANDRÉ' 'SOLON BORGES' 'BONFIM' 'JARDIM CAMBURI' 'MARIA ORTIZ'\n",
      " 'JABOUR' 'ANTÔNIO HONÓRIO' 'RESISTÊNCIA' 'ILHA DE SANTA MARIA'\n",
      " 'JUCUTUQUARA' 'MONTE BELO' 'MÁRIO CYPRESTE' 'SANTO ANTÔNIO' 'BELA VISTA'\n",
      " 'PRAIA DO SUÁ' 'SANTA HELENA' 'ITARARÉ' 'INHANGUETÁ' 'UNIVERSITÁRIO'\n",
      " 'SÃO JOSÉ' 'REDENÇÃO' 'SANTA CLARA' 'CENTRO' 'PARQUE MOSCOSO'\n",
      " 'DO MOSCOSO' 'SANTOS DUMONT' 'CARATOÍRA' 'ARIOVALDO FAVALESSA'\n",
      " 'ILHA DO FRADE' 'GURIGICA' 'JOANA D´ARC' 'CONSOLAÇÃO' 'PRAIA DO CANTO'\n",
      " 'BOA VISTA' 'MORADA DE CAMBURI' 'SANTA LUÍZA' 'SANTA LÚCIA'\n",
      " 'BARRO VERMELHO' 'ESTRELINHA' 'FORTE SÃO JOÃO' 'FONTE GRANDE'\n",
      " 'ENSEADA DO SUÁ' 'SANTOS REIS' 'PIEDADE' 'JESUS DE NAZARETH'\n",
      " 'SANTA TEREZA' 'CRUZAMENTO' 'ILHA DO PRÍNCIPE' 'ROMÃO' 'COMDUSA'\n",
      " 'SANTA CECÍLIA' 'VILA RUBIM' 'DE LOURDES' 'DO QUADRO' 'DO CABRAL' 'HORTO'\n",
      " 'SEGURANÇA DO LAR' 'ILHA DO BOI' 'FRADINHOS' 'NAZARETH' 'AEROPORTO'\n",
      " 'ILHAS OCEÂNICAS DE TRINDADE' 'PARQUE INDUSTRIAL']\n",
      "\n",
      "Age:\n",
      "[ 62  56   8  76  23  39  21  19  30  29  22  28  54  15  50  40  46   4\n",
      "  13  65  45  51  32  12  61  38  79  18  63  64  85  59  55  71  49  78\n",
      "  31  58  27   6   2  11   7   0   3   1  69  68  60  67  36  10  35  20\n",
      "  26  34  33  16  42   5  47  17  41  44  37  24  66  77  81  70  53  75\n",
      "  73  52  74  43  89  57  14   9  48  83  72  25  80  87  88  84  82  90\n",
      "  94  86  91  98  92  96  93  95  97 102 115 100  99  -1]\n"
     ]
    }
   ],
   "source": [
    "# Check the Neighbourhood fields\n",
    "print(\"\\nNeighbourhood:\")\n",
    "print(rawDf['Neighbourhood'].unique())\n",
    "\n",
    "# Check the Age fields\n",
    "print(\"\\nAge:\")\n",
    "print(rawDf['Age'].unique())"
   ]
  },
  {
   "cell_type": "markdown",
   "metadata": {},
   "source": [
    "<b style='color: red'>- Neighbourhood is all caps</b> This is hard to read\n",
    "\n",
    "<b style='color: red'>- Age contains a value of -1</b> A person cannot have a negative age, so this needs to be removed. Note that there is an age '0', but assume this is okay as it is likely a newborn baby\n",
    "\n",
    "Take a look at the strange age field:"
   ]
  },
  {
   "cell_type": "code",
   "execution_count": 7,
   "metadata": {},
   "outputs": [
    {
     "data": {
      "text/html": [
       "<div>\n",
       "<style scoped>\n",
       "    .dataframe tbody tr th:only-of-type {\n",
       "        vertical-align: middle;\n",
       "    }\n",
       "\n",
       "    .dataframe tbody tr th {\n",
       "        vertical-align: top;\n",
       "    }\n",
       "\n",
       "    .dataframe thead th {\n",
       "        text-align: right;\n",
       "    }\n",
       "</style>\n",
       "<table border=\"1\" class=\"dataframe\">\n",
       "  <thead>\n",
       "    <tr style=\"text-align: right;\">\n",
       "      <th></th>\n",
       "      <th>PatientId</th>\n",
       "      <th>AppointmentID</th>\n",
       "      <th>Gender</th>\n",
       "      <th>ScheduledDay</th>\n",
       "      <th>AppointmentDay</th>\n",
       "      <th>Age</th>\n",
       "      <th>Neighbourhood</th>\n",
       "      <th>Scholarship</th>\n",
       "      <th>Hipertension</th>\n",
       "      <th>Diabetes</th>\n",
       "      <th>Alcoholism</th>\n",
       "      <th>Handcap</th>\n",
       "      <th>SMS_received</th>\n",
       "      <th>No-show</th>\n",
       "    </tr>\n",
       "  </thead>\n",
       "  <tbody>\n",
       "    <tr>\n",
       "      <th>99832</th>\n",
       "      <td>4.659432e+14</td>\n",
       "      <td>5775010</td>\n",
       "      <td>F</td>\n",
       "      <td>2016-06-06T08:58:13Z</td>\n",
       "      <td>2016-06-06T00:00:00Z</td>\n",
       "      <td>-1</td>\n",
       "      <td>ROMÃO</td>\n",
       "      <td>0</td>\n",
       "      <td>0</td>\n",
       "      <td>0</td>\n",
       "      <td>0</td>\n",
       "      <td>0</td>\n",
       "      <td>0</td>\n",
       "      <td>No</td>\n",
       "    </tr>\n",
       "  </tbody>\n",
       "</table>\n",
       "</div>"
      ],
      "text/plain": [
       "          PatientId  AppointmentID Gender          ScheduledDay  \\\n",
       "99832  4.659432e+14        5775010      F  2016-06-06T08:58:13Z   \n",
       "\n",
       "             AppointmentDay  Age Neighbourhood  Scholarship  Hipertension  \\\n",
       "99832  2016-06-06T00:00:00Z   -1         ROMÃO            0             0   \n",
       "\n",
       "       Diabetes  Alcoholism  Handcap  SMS_received No-show  \n",
       "99832         0           0        0             0      No  "
      ]
     },
     "execution_count": 7,
     "metadata": {},
     "output_type": "execute_result"
    }
   ],
   "source": [
    "rawDf[rawDf['Age'] == -1]"
   ]
  },
  {
   "cell_type": "markdown",
   "metadata": {},
   "source": [
    "<hr />"
   ]
  },
  {
   "cell_type": "code",
   "execution_count": 8,
   "metadata": {},
   "outputs": [
    {
     "data": {
      "text/plain": [
       "0"
      ]
     },
     "execution_count": 8,
     "metadata": {},
     "output_type": "execute_result"
    }
   ],
   "source": [
    "# Ensure that there are no duplicates\n",
    "rawDf['AppointmentID'].duplicated().sum()"
   ]
  },
  {
   "cell_type": "markdown",
   "metadata": {},
   "source": [
    "<b style='color: green'>+ No duplicates</b>"
   ]
  },
  {
   "cell_type": "markdown",
   "metadata": {},
   "source": [
    "## Data Cleaning \n",
    "Now that the issues have been identified (outlined in red), the next step is to clean it"
   ]
  },
  {
   "cell_type": "code",
   "execution_count": 9,
   "metadata": {},
   "outputs": [
    {
     "data": {
      "text/html": [
       "<div>\n",
       "<style scoped>\n",
       "    .dataframe tbody tr th:only-of-type {\n",
       "        vertical-align: middle;\n",
       "    }\n",
       "\n",
       "    .dataframe tbody tr th {\n",
       "        vertical-align: top;\n",
       "    }\n",
       "\n",
       "    .dataframe thead th {\n",
       "        text-align: right;\n",
       "    }\n",
       "</style>\n",
       "<table border=\"1\" class=\"dataframe\">\n",
       "  <thead>\n",
       "    <tr style=\"text-align: right;\">\n",
       "      <th></th>\n",
       "      <th>patient_id</th>\n",
       "      <th>appointment_id</th>\n",
       "      <th>gender</th>\n",
       "      <th>scheduled_day</th>\n",
       "      <th>appointment_day</th>\n",
       "      <th>age</th>\n",
       "      <th>neighbourhood</th>\n",
       "      <th>scholarship</th>\n",
       "      <th>hipertension</th>\n",
       "      <th>diabetes</th>\n",
       "      <th>alcoholism</th>\n",
       "      <th>handcap</th>\n",
       "      <th>sms_received</th>\n",
       "      <th>success</th>\n",
       "    </tr>\n",
       "  </thead>\n",
       "  <tbody>\n",
       "    <tr>\n",
       "      <th>0</th>\n",
       "      <td>29872499824296</td>\n",
       "      <td>5642903</td>\n",
       "      <td>F</td>\n",
       "      <td>2016-04-29 18:38:08</td>\n",
       "      <td>2016-04-29</td>\n",
       "      <td>62</td>\n",
       "      <td>Jardim Da Penha</td>\n",
       "      <td>0</td>\n",
       "      <td>1</td>\n",
       "      <td>0</td>\n",
       "      <td>0</td>\n",
       "      <td>0</td>\n",
       "      <td>0</td>\n",
       "      <td>1</td>\n",
       "    </tr>\n",
       "    <tr>\n",
       "      <th>1</th>\n",
       "      <td>558997776694438</td>\n",
       "      <td>5642503</td>\n",
       "      <td>M</td>\n",
       "      <td>2016-04-29 16:08:27</td>\n",
       "      <td>2016-04-29</td>\n",
       "      <td>56</td>\n",
       "      <td>Jardim Da Penha</td>\n",
       "      <td>0</td>\n",
       "      <td>0</td>\n",
       "      <td>0</td>\n",
       "      <td>0</td>\n",
       "      <td>0</td>\n",
       "      <td>0</td>\n",
       "      <td>1</td>\n",
       "    </tr>\n",
       "    <tr>\n",
       "      <th>2</th>\n",
       "      <td>4262962299951</td>\n",
       "      <td>5642549</td>\n",
       "      <td>F</td>\n",
       "      <td>2016-04-29 16:19:04</td>\n",
       "      <td>2016-04-29</td>\n",
       "      <td>62</td>\n",
       "      <td>Mata Da Praia</td>\n",
       "      <td>0</td>\n",
       "      <td>0</td>\n",
       "      <td>0</td>\n",
       "      <td>0</td>\n",
       "      <td>0</td>\n",
       "      <td>0</td>\n",
       "      <td>1</td>\n",
       "    </tr>\n",
       "    <tr>\n",
       "      <th>3</th>\n",
       "      <td>867951213174</td>\n",
       "      <td>5642828</td>\n",
       "      <td>F</td>\n",
       "      <td>2016-04-29 17:29:31</td>\n",
       "      <td>2016-04-29</td>\n",
       "      <td>8</td>\n",
       "      <td>Pontal De Camburi</td>\n",
       "      <td>0</td>\n",
       "      <td>0</td>\n",
       "      <td>0</td>\n",
       "      <td>0</td>\n",
       "      <td>0</td>\n",
       "      <td>0</td>\n",
       "      <td>1</td>\n",
       "    </tr>\n",
       "    <tr>\n",
       "      <th>4</th>\n",
       "      <td>8841186448183</td>\n",
       "      <td>5642494</td>\n",
       "      <td>F</td>\n",
       "      <td>2016-04-29 16:07:23</td>\n",
       "      <td>2016-04-29</td>\n",
       "      <td>56</td>\n",
       "      <td>Jardim Da Penha</td>\n",
       "      <td>0</td>\n",
       "      <td>1</td>\n",
       "      <td>1</td>\n",
       "      <td>0</td>\n",
       "      <td>0</td>\n",
       "      <td>0</td>\n",
       "      <td>1</td>\n",
       "    </tr>\n",
       "  </tbody>\n",
       "</table>\n",
       "</div>"
      ],
      "text/plain": [
       "        patient_id  appointment_id gender       scheduled_day appointment_day  \\\n",
       "0   29872499824296         5642903      F 2016-04-29 18:38:08      2016-04-29   \n",
       "1  558997776694438         5642503      M 2016-04-29 16:08:27      2016-04-29   \n",
       "2    4262962299951         5642549      F 2016-04-29 16:19:04      2016-04-29   \n",
       "3     867951213174         5642828      F 2016-04-29 17:29:31      2016-04-29   \n",
       "4    8841186448183         5642494      F 2016-04-29 16:07:23      2016-04-29   \n",
       "\n",
       "   age      neighbourhood  scholarship  hipertension  diabetes  alcoholism  \\\n",
       "0   62    Jardim Da Penha            0             1         0           0   \n",
       "1   56    Jardim Da Penha            0             0         0           0   \n",
       "2   62      Mata Da Praia            0             0         0           0   \n",
       "3    8  Pontal De Camburi            0             0         0           0   \n",
       "4   56    Jardim Da Penha            0             1         1           0   \n",
       "\n",
       "   handcap  sms_received  success  \n",
       "0        0             0        1  \n",
       "1        0             0        1  \n",
       "2        0             0        1  \n",
       "3        0             0        1  \n",
       "4        0             0        1  "
      ]
     },
     "execution_count": 9,
     "metadata": {},
     "output_type": "execute_result"
    }
   ],
   "source": [
    "# Convert the string date fields into Date objects\n",
    "rawDf['AppointmentDay'] = pd.to_datetime(rawDf['AppointmentDay'])\n",
    "rawDf['ScheduledDay'] = pd.to_datetime(rawDf['ScheduledDay'])\n",
    "\n",
    "# Drop the Handcap fields that are greater than 1 (2, 3, 4)\n",
    "rawDf.drop(rawDf[rawDf['Handcap'] > 1].index, inplace = True)\n",
    "\n",
    "# Make the Neighbourhood field a title to be a bit more readable\n",
    "rawDf['Neighbourhood'] = rawDf['Neighbourhood'].str.title()\n",
    "\n",
    "# Exponentials are hard to read, lets change it to an int\n",
    "rawDf['PatientId'] = rawDf['PatientId'].astype(int)\n",
    "\n",
    "# Drop the Age field that is -1\n",
    "rawDf.drop(rawDf[rawDf['Age'] < 0].index, inplace = True)\n",
    "\n",
    "# Copy the dataframe so we can rename fields without mutating the original\n",
    "df = rawDf.copy()\n",
    "\n",
    "# Make the columns snake case to make it easier to work with in Python\n",
    "df.columns = ['patient_id', 'appointment_id', 'gender', 'scheduled_day',\n",
    "       'appointment_day', 'age', 'neighbourhood', 'scholarship', 'hipertension',\n",
    "       'diabetes', 'alcoholism', 'handcap', 'sms_received', 'no_show']\n",
    "\n",
    "# The no show field is confusing and not a boolean. Make it like the others and rename it to 'success' to remove ambiguity\n",
    "df['success'] = np.where(df['no_show'] == 'No', 1, 0)\n",
    "df.drop('no_show', axis = 1, inplace = True)\n",
    "\n",
    "# Finally, show the resulting dataset\n",
    "df.head()"
   ]
  },
  {
   "cell_type": "markdown",
   "metadata": {},
   "source": [
    "<hr />\n",
    "<a id='eda'></a>\n",
    "## Exploratory Data Analysis\n",
    "Now that the data has been cleaned, various questions are presented in an attempt to understand the correlation between the variables in the dataset. We want to determine what is a good indicator for if someone shows up to an appointment or not. Based on this, we want to look at the following\n",
    "<ol>\n",
    "    <li>Is there is any relationship between gender and the likelyhood the patient will show?</li>\n",
    "    <li>Is there a relationship between other individual traits (scholarship, hipertension, diabetes, alcoholism, handcap, sms received) and whether the customer shows?</li>\n",
    "    <li>Are there are any particular neighbourhoods that have a higher chance of showing?</li>\n",
    "    <li>Are there particular age brackets that are more likely to show?</li>\n",
    "    <li>Are there are any particular days or months that patients are more likely to show?</li>\n",
    "    <li>Are repeat patients more likely to show?</li>\n",
    "    <li>Given the above, can we look at the combination of 2 variables</li>\n",
    "</ol>"
   ]
  },
  {
   "cell_type": "markdown",
   "metadata": {},
   "source": [
    "### Generic Functions\n",
    "Set up some helper functions that we can use later"
   ]
  },
  {
   "cell_type": "code",
   "execution_count": 10,
   "metadata": {},
   "outputs": [],
   "source": [
    "# Group by success and a second value and then generate the % success\n",
    "def generate_simple_analysis(df, groupped_value):\n",
    "    a = df.groupby(['success', groupped_value]).count()['patient_id']\n",
    "    a = a.unstack(level = 0)\n",
    "    a['total'] = a[0] + a[1]\n",
    "    a['%_success'] = a[1] / a['total']\n",
    "    return a"
   ]
  },
  {
   "cell_type": "markdown",
   "metadata": {},
   "source": [
    "<hr />\n",
    "\n",
    "## 1. Gender\n",
    "Attempt to find if there are any correlations between the gender of the patient and the likelyhood that they show to the appointment.\n",
    "This is achieved by grouping the gender with the success value, then plotting it on a bar chart to show the correlation, if any. "
   ]
  },
  {
   "cell_type": "code",
   "execution_count": 11,
   "metadata": {},
   "outputs": [
    {
     "data": {
      "text/plain": [
       "Text(0,0.5,'Percentage')"
      ]
     },
     "execution_count": 11,
     "metadata": {},
     "output_type": "execute_result"
    },
    {
     "data": {
      "image/png": "[encoded data removed]",
      "text/plain": [
       "<matplotlib.figure.Figure at 0x11264d668>"
      ]
     },
     "metadata": {},
     "output_type": "display_data"
    }
   ],
   "source": [
    "# Group by gender and count the total number \n",
    "gender_groupped = df.groupby(['success', 'gender']).count()['patient_id'] \n",
    "\n",
    "# Unstack it so we have both the success (1) and unsuccessful (0)\n",
    "gender_groupped = gender_groupped.unstack(level = 0)\n",
    "\n",
    "# Create a total column which is the sum of both\n",
    "gender_groupped['total'] = gender_groupped[0] + gender_groupped[1]\n",
    "\n",
    "# Generate a % of success so it's a better indicator than simple raw numbers\n",
    "gender_groupped['%_success'] = gender_groupped[1] / gender_groupped['total']\n",
    "gender_groupped[['%_success']].plot.bar()\n",
    "\n",
    "plt.title(\"Success by Gender\", fontsize = 18)\n",
    "plt.ylabel(\"Percentage\")"
   ]
  },
  {
   "cell_type": "markdown",
   "metadata": {},
   "source": [
    "\n",
    "<b style='color: red'>- There doesn't look like to be any significant difference between gender and the success rate of turning up to an appointment </b>"
   ]
  },
  {
   "cell_type": "markdown",
   "metadata": {},
   "source": [
    "## 2. Correlations\n",
    "Next, we attempt to undcover if there are any correlations between success and any of the other single dependent variables. This is achieved by using the pandas library to calculate the 'Pearsons R' value for each of the variables. Any values approaching 1 or -1 indicate a correlation between the success rate and the dependent variable."
   ]
  },
  {
   "cell_type": "code",
   "execution_count": 12,
   "metadata": {},
   "outputs": [
    {
     "data": {
      "text/plain": [
       "-0.029390574536307213"
      ]
     },
     "execution_count": 12,
     "metadata": {},
     "output_type": "execute_result"
    }
   ],
   "source": [
    "df['scholarship'].corr(df['success'])"
   ]
  },
  {
   "cell_type": "code",
   "execution_count": 13,
   "metadata": {},
   "outputs": [
    {
     "data": {
      "text/plain": [
       "0.036175874201493624"
      ]
     },
     "execution_count": 13,
     "metadata": {},
     "output_type": "execute_result"
    }
   ],
   "source": [
    "df['hipertension'].corr(df['success'])"
   ]
  },
  {
   "cell_type": "code",
   "execution_count": 14,
   "metadata": {},
   "outputs": [
    {
     "data": {
      "text/plain": [
       "0.015169351261922566"
      ]
     },
     "execution_count": 14,
     "metadata": {},
     "output_type": "execute_result"
    }
   ],
   "source": [
    "df['diabetes'].corr(df['success'])"
   ]
  },
  {
   "cell_type": "code",
   "execution_count": 15,
   "metadata": {},
   "outputs": [
    {
     "data": {
      "text/plain": [
       "0.00024458951218007924"
      ]
     },
     "execution_count": 15,
     "metadata": {},
     "output_type": "execute_result"
    }
   ],
   "source": [
    "df['alcoholism'].corr(df['success'])"
   ]
  },
  {
   "cell_type": "code",
   "execution_count": 16,
   "metadata": {},
   "outputs": [
    {
     "data": {
      "text/plain": [
       "0.007762077995618917"
      ]
     },
     "execution_count": 16,
     "metadata": {},
     "output_type": "execute_result"
    }
   ],
   "source": [
    "df['handcap'].corr(df['success'])"
   ]
  },
  {
   "cell_type": "code",
   "execution_count": 17,
   "metadata": {},
   "outputs": [
    {
     "data": {
      "text/plain": [
       "-0.1266782067897104"
      ]
     },
     "execution_count": 17,
     "metadata": {},
     "output_type": "execute_result"
    }
   ],
   "source": [
    "df['sms_received'].corr(df['success'])"
   ]
  },
  {
   "cell_type": "markdown",
   "metadata": {},
   "source": [
    "### Observations\n",
    "<b style='color: red'>- The correlations between the variables analysed are weak.</b> Neither the scholarship, hipertension, diabetes, alcoholism or handcap appear to have any effect on the likelyhood that the patient shows to the appointment. The highest Pearsons R value identified is the Sms received which indicates a negative correlation of -0.12. However, this value is too weak to provide any conclusions. A future experiment would be to test frequency of SMS and at varying times before the appointment. This could impact the correlation, however it is outside the scope of this analysis. "
   ]
  },
  {
   "cell_type": "markdown",
   "metadata": {},
   "source": [
    "## 3. Neighbourhood\n",
    "There may be some neighbourhoods that are higher or lower in terms of success rate. Let's explore to see if there is a difference"
   ]
  },
  {
   "cell_type": "code",
   "execution_count": 18,
   "metadata": {},
   "outputs": [],
   "source": [
    "# Get the total counts\n",
    "neighbourhood = df.groupby(['neighbourhood', 'success']).count()\n",
    "b = neighbourhood['age']\n",
    "\n",
    "# Unstack so we only have success or not\n",
    "b = b.unstack()\n",
    "\n",
    "# Rename columns\n",
    "b.columns = ['no_show','show']\n",
    "\n",
    "# Fill in some nulls\n",
    "b.fillna(0, inplace = True)\n",
    "\n",
    "# Calculate the total\n",
    "b['total'] = b['no_show'] + b['show']\n",
    "\n",
    "# Calculate the % of show against the total\n",
    "b['%_show'] = b['show'] / b['total']\n",
    "b['%_no_show'] = b['no_show'] / b['total']"
   ]
  },
  {
   "cell_type": "code",
   "execution_count": 19,
   "metadata": {},
   "outputs": [
    {
     "data": {
      "text/plain": [
       "Text(0,0.5,'Percentage')"
      ]
     },
     "execution_count": 19,
     "metadata": {},
     "output_type": "execute_result"
    },
    {
     "data": {
      "image/png": "[encoded data removed]",
      "text/plain": [
       "<matplotlib.figure.Figure at 0x1159d7a20>"
      ]
     },
     "metadata": {},
     "output_type": "display_data"
    }
   ],
   "source": [
    "b[['%_show', '%_no_show']].plot.bar(figsize=(17,5))\n",
    "plt.title(\"% of success or not by neighbourhood\", fontsize = 18)\n",
    "plt.ylabel(\"Percentage\")"
   ]
  },
  {
   "cell_type": "code",
   "execution_count": 20,
   "metadata": {},
   "outputs": [
    {
     "data": {
      "text/html": [
       "<div>\n",
       "<style scoped>\n",
       "    .dataframe tbody tr th:only-of-type {\n",
       "        vertical-align: middle;\n",
       "    }\n",
       "\n",
       "    .dataframe tbody tr th {\n",
       "        vertical-align: top;\n",
       "    }\n",
       "\n",
       "    .dataframe thead th {\n",
       "        text-align: right;\n",
       "    }\n",
       "</style>\n",
       "<table border=\"1\" class=\"dataframe\">\n",
       "  <thead>\n",
       "    <tr style=\"text-align: right;\">\n",
       "      <th></th>\n",
       "      <th>no_show</th>\n",
       "      <th>show</th>\n",
       "      <th>total</th>\n",
       "      <th>%_show</th>\n",
       "      <th>%_no_show</th>\n",
       "    </tr>\n",
       "    <tr>\n",
       "      <th>neighbourhood</th>\n",
       "      <th></th>\n",
       "      <th></th>\n",
       "      <th></th>\n",
       "      <th></th>\n",
       "      <th></th>\n",
       "    </tr>\n",
       "  </thead>\n",
       "  <tbody>\n",
       "    <tr>\n",
       "      <th>Ilhas Oceânicas De Trindade</th>\n",
       "      <td>2.0</td>\n",
       "      <td>0.0</td>\n",
       "      <td>2.0</td>\n",
       "      <td>0.000000</td>\n",
       "      <td>1.000000</td>\n",
       "    </tr>\n",
       "    <tr>\n",
       "      <th>Santos Dumont</th>\n",
       "      <td>369.0</td>\n",
       "      <td>905.0</td>\n",
       "      <td>1274.0</td>\n",
       "      <td>0.710361</td>\n",
       "      <td>0.289639</td>\n",
       "    </tr>\n",
       "  </tbody>\n",
       "</table>\n",
       "</div>"
      ],
      "text/plain": [
       "                             no_show   show   total    %_show  %_no_show\n",
       "neighbourhood                                                           \n",
       "Ilhas Oceânicas De Trindade      2.0    0.0     2.0  0.000000   1.000000\n",
       "Santos Dumont                  369.0  905.0  1274.0  0.710361   0.289639"
      ]
     },
     "execution_count": 20,
     "metadata": {},
     "output_type": "execute_result"
    }
   ],
   "source": [
    "# Let's find all the outliers using the standard box and whiskers chart. \n",
    "# We can then use this to analyse 2D data later\n",
    "\n",
    "# Outlier > q3 + (1.5 * IQR) or\n",
    "# outlier < q1 - (1.5 * QIR)\n",
    "# where IQR is q3 - q1\n",
    "iqr = 0.215915 - 0.177797\n",
    "q3 = b.quantile(0.75)\n",
    "q1 = b.quantile(0.25)\n",
    "\n",
    "# Determine outliers for no shows\n",
    "b[b['%_no_show'] > q3['%_no_show'] + (1.5 * iqr)]"
   ]
  },
  {
   "cell_type": "code",
   "execution_count": 21,
   "metadata": {},
   "outputs": [
    {
     "data": {
      "text/html": [
       "<div>\n",
       "<style scoped>\n",
       "    .dataframe tbody tr th:only-of-type {\n",
       "        vertical-align: middle;\n",
       "    }\n",
       "\n",
       "    .dataframe tbody tr th {\n",
       "        vertical-align: top;\n",
       "    }\n",
       "\n",
       "    .dataframe thead th {\n",
       "        text-align: right;\n",
       "    }\n",
       "</style>\n",
       "<table border=\"1\" class=\"dataframe\">\n",
       "  <thead>\n",
       "    <tr style=\"text-align: right;\">\n",
       "      <th></th>\n",
       "      <th>no_show</th>\n",
       "      <th>show</th>\n",
       "      <th>total</th>\n",
       "      <th>%_show</th>\n",
       "      <th>%_no_show</th>\n",
       "    </tr>\n",
       "    <tr>\n",
       "      <th>neighbourhood</th>\n",
       "      <th></th>\n",
       "      <th></th>\n",
       "      <th></th>\n",
       "      <th></th>\n",
       "      <th></th>\n",
       "    </tr>\n",
       "  </thead>\n",
       "  <tbody>\n",
       "    <tr>\n",
       "      <th>Ilha Do Boi</th>\n",
       "      <td>3.0</td>\n",
       "      <td>32.0</td>\n",
       "      <td>35.0</td>\n",
       "      <td>0.914286</td>\n",
       "      <td>0.085714</td>\n",
       "    </tr>\n",
       "    <tr>\n",
       "      <th>Parque Industrial</th>\n",
       "      <td>0.0</td>\n",
       "      <td>1.0</td>\n",
       "      <td>1.0</td>\n",
       "      <td>1.000000</td>\n",
       "      <td>0.000000</td>\n",
       "    </tr>\n",
       "  </tbody>\n",
       "</table>\n",
       "</div>"
      ],
      "text/plain": [
       "                   no_show  show  total    %_show  %_no_show\n",
       "neighbourhood                                               \n",
       "Ilha Do Boi            3.0  32.0   35.0  0.914286   0.085714\n",
       "Parque Industrial      0.0   1.0    1.0  1.000000   0.000000"
      ]
     },
     "execution_count": 21,
     "metadata": {},
     "output_type": "execute_result"
    }
   ],
   "source": [
    "b[b['%_no_show'] < q1['%_no_show'] - (1.5 * iqr)]"
   ]
  },
  {
   "cell_type": "markdown",
   "metadata": {},
   "source": [
    "<b style='color: green'>- We observe from this that in the outliers the neighbourhoods of Ilha Do Frade, Ilhas Oceânicas De Trindade, Santa Cecília and Santos Dumont have a very high % of no shows whilst the  Parque Industrial have a very low % of no shows </b>\n"
   ]
  },
  {
   "cell_type": "markdown",
   "metadata": {},
   "source": [
    "## 4. Age\n",
    "Take a look into age to see if it affects anything"
   ]
  },
  {
   "cell_type": "code",
   "execution_count": 22,
   "metadata": {},
   "outputs": [
    {
     "data": {
      "text/plain": [
       "array([ 62,  56,   8,  76,  23,  39,  21,  19,  30,  29,  22,  28,  54,\n",
       "        15,  50,  40,  46,   4,  13,  65,  45,  51,  32,  12,  61,  38,\n",
       "        79,  18,  63,  64,  85,  59,  55,  71,  49,  78,  31,  58,  27,\n",
       "         6,   2,  11,   7,   0,   3,   1,  69,  68,  60,  67,  36,  10,\n",
       "        35,  20,  26,  34,  33,  16,  42,   5,  47,  17,  41,  44,  37,\n",
       "        24,  66,  77,  81,  70,  53,  75,  73,  52,  74,  43,  89,  57,\n",
       "        14,   9,  48,  83,  72,  25,  80,  87,  88,  84,  82,  90,  86,\n",
       "        91,  98,  92,  94,  96,  93,  95,  97, 102, 115, 100,  99])"
      ]
     },
     "execution_count": 22,
     "metadata": {},
     "output_type": "execute_result"
    }
   ],
   "source": [
    "# Double check unique values\n",
    "df['age'].unique()"
   ]
  },
  {
   "cell_type": "code",
   "execution_count": 23,
   "metadata": {},
   "outputs": [],
   "source": [
    "# Copy into new df for work\n",
    "age = df[['age', 'success']].copy()"
   ]
  },
  {
   "cell_type": "code",
   "execution_count": 24,
   "metadata": {},
   "outputs": [],
   "source": [
    "# Group everything into age\n",
    "def group_age (row):\n",
    "    if row['age'] <= 20 :\n",
    "        return '0-20'\n",
    "    elif row['age'] <= 30:\n",
    "        return '21-30'\n",
    "    elif row['age'] <= 40:\n",
    "        return '31-40'\n",
    "    elif row['age'] <= 50:\n",
    "        return '41-50'\n",
    "    elif row['age'] <= 60:\n",
    "        return '51-60'\n",
    "    elif row['age'] <= 70:\n",
    "        return '61-70'\n",
    "    elif row['age'] <= 80:\n",
    "        return '71-80'\n",
    "    elif row['age'] <= 90:\n",
    "        return '81-90'\n",
    "    else:\n",
    "        return '>90'"
   ]
  },
  {
   "cell_type": "code",
   "execution_count": 25,
   "metadata": {},
   "outputs": [],
   "source": [
    "# Add a new column that is the groupped age\n",
    "age['groupped_age'] = age.apply(lambda row: group_age (row), axis = 1)"
   ]
  },
  {
   "cell_type": "code",
   "execution_count": 26,
   "metadata": {},
   "outputs": [
    {
     "data": {
      "text/html": [
       "<div>\n",
       "<style scoped>\n",
       "    .dataframe tbody tr th:only-of-type {\n",
       "        vertical-align: middle;\n",
       "    }\n",
       "\n",
       "    .dataframe tbody tr th {\n",
       "        vertical-align: top;\n",
       "    }\n",
       "\n",
       "    .dataframe thead th {\n",
       "        text-align: right;\n",
       "    }\n",
       "</style>\n",
       "<table border=\"1\" class=\"dataframe\">\n",
       "  <thead>\n",
       "    <tr style=\"text-align: right;\">\n",
       "      <th></th>\n",
       "      <th>total</th>\n",
       "    </tr>\n",
       "    <tr>\n",
       "      <th>groupped_age</th>\n",
       "      <th></th>\n",
       "    </tr>\n",
       "  </thead>\n",
       "  <tbody>\n",
       "    <tr>\n",
       "      <th>0-20</th>\n",
       "      <td>31797</td>\n",
       "    </tr>\n",
       "    <tr>\n",
       "      <th>21-30</th>\n",
       "      <td>13771</td>\n",
       "    </tr>\n",
       "    <tr>\n",
       "      <th>31-40</th>\n",
       "      <td>15027</td>\n",
       "    </tr>\n",
       "    <tr>\n",
       "      <th>41-50</th>\n",
       "      <td>14402</td>\n",
       "    </tr>\n",
       "    <tr>\n",
       "      <th>51-60</th>\n",
       "      <td>15639</td>\n",
       "    </tr>\n",
       "  </tbody>\n",
       "</table>\n",
       "</div>"
      ],
      "text/plain": [
       "              total\n",
       "groupped_age       \n",
       "0-20          31797\n",
       "21-30         13771\n",
       "31-40         15027\n",
       "41-50         14402\n",
       "51-60         15639"
      ]
     },
     "execution_count": 26,
     "metadata": {},
     "output_type": "execute_result"
    }
   ],
   "source": [
    "# Get the total counts\n",
    "groupped_age = age.groupby('groupped_age').count()\n",
    "groupped_age.drop('age', inplace = True, axis = 1)\n",
    "groupped_age.columns = ['total']\n",
    "groupped_age.head()"
   ]
  },
  {
   "cell_type": "code",
   "execution_count": 27,
   "metadata": {},
   "outputs": [
    {
     "data": {
      "text/plain": [
       "Text(0.5,0,'Age group')"
      ]
     },
     "execution_count": 27,
     "metadata": {},
     "output_type": "execute_result"
    },
    {
     "data": {
      "image/png": "[encoded data removed]",
      "text/plain": [
       "<matplotlib.figure.Figure at 0x11379f908>"
      ]
     },
     "metadata": {},
     "output_type": "display_data"
    }
   ],
   "source": [
    "# Get the successes by summing (1 is success and 0 is not)\n",
    "age_success = age.groupby('groupped_age').sum()\n",
    "groupped_age['success'] = age_success['success']\n",
    "\n",
    "# Get the %\n",
    "groupped_age['success_%'] = groupped_age['success'] / groupped_age['total']\n",
    "groupped_age['index'] = groupped_age.index\n",
    "groupped_age.reset_index(inplace = True)\n",
    "ax = groupped_age[['success_%']].plot(figsize=(17,5))\n",
    "\n",
    "# Set x axis\n",
    "ax.set_xticks(groupped_age.index)\n",
    "ax.set_xticklabels(groupped_age['index'])\n",
    "\n",
    "plt.title(\"Success by Age\", fontsize=18)\n",
    "plt.ylabel(\"Percentage\")\n",
    "plt.xlabel(\"Age group\")"
   ]
  },
  {
   "cell_type": "markdown",
   "metadata": {},
   "source": [
    "<b style='color:green'>- There is a slight trend, the lowest group is 21-30 with the highest being 61-70</b>"
   ]
  },
  {
   "cell_type": "markdown",
   "metadata": {},
   "source": [
    "## 5. Time\n",
    "We want to see if any of the following exists:\n",
    "1. If there is any correlation between the appointment day and success rate (i.e. if a Monday is more successful than a Friday)\n",
    "2. If there is any correlation between the appointment month and success rate (i.e. if there is a particular month that is more successful)\n",
    "3. If the difference between appointment date and when they set the date indicates a success rate (i.e. is the closer the booking date in advance the more likely it is successful)"
   ]
  },
  {
   "cell_type": "markdown",
   "metadata": {},
   "source": [
    "### Day vs success\n",
    "We first explore the day of the week to success rates"
   ]
  },
  {
   "cell_type": "code",
   "execution_count": 28,
   "metadata": {},
   "outputs": [],
   "source": [
    "# Convert the appointmentday and shceduled_day\n",
    "df['appointment_day'] = pd.to_datetime(df['appointment_day'])\n",
    "df['scheduled_day'] = pd.to_datetime(df['scheduled_day'])"
   ]
  },
  {
   "cell_type": "code",
   "execution_count": 29,
   "metadata": {},
   "outputs": [
    {
     "data": {
      "text/plain": [
       "Text(0,0.5,'Percent')"
      ]
     },
     "execution_count": 29,
     "metadata": {},
     "output_type": "execute_result"
    },
    {
     "data": {
      "image/png": "[encoded data removed]",
      "text/plain": [
       "<matplotlib.figure.Figure at 0x114dc3748>"
      ]
     },
     "metadata": {},
     "output_type": "display_data"
    }
   ],
   "source": [
    "day_of_week = generate_simple_analysis(df, df['appointment_day'].dt.dayofweek)\n",
    "\n",
    "# Make table more readable with names instead of numbers\n",
    "day_of_week['day'] = ['Monday', 'Tuesday', 'Wednesday', 'Thursday', 'Friday', 'Saturday']\n",
    "\n",
    "ax = day_of_week[['%_success']].plot(figsize=(17, 5))\n",
    "\n",
    "ax.set_xticks(day_of_week.index)\n",
    "ax.set_xticklabels(day_of_week['day'])\n",
    "plt.title(\"Day of week vs success\", fontsize=18)\n",
    "plt.ylabel(\"Percent\")"
   ]
  },
  {
   "cell_type": "markdown",
   "metadata": {},
   "source": [
    "<b style=\"color:green\">- It looks like it rises up to a peak of Thursday before dropping off rapidly on Friday and Saturday</b>\n",
    "\n",
    "### Month vs Success"
   ]
  },
  {
   "cell_type": "code",
   "execution_count": 30,
   "metadata": {},
   "outputs": [
    {
     "data": {
      "text/plain": [
       "Text(0.5,0,'Month')"
      ]
     },
     "execution_count": 30,
     "metadata": {},
     "output_type": "execute_result"
    },
    {
     "data": {
      "image/png": "[encoded data removed]",
      "text/plain": [
       "<matplotlib.figure.Figure at 0x114e20b70>"
      ]
     },
     "metadata": {},
     "output_type": "display_data"
    }
   ],
   "source": [
    "month_of_week = generate_simple_analysis(df, df['appointment_day'].dt.month)\n",
    "month_of_week[['%_success']].plot.bar(figsize=(17, 5))\n",
    "plt.title(\"Month vs Success\")\n",
    "plt.ylabel(\"Percent success\")\n",
    "plt.xlabel(\"Month\")"
   ]
  },
  {
   "cell_type": "markdown",
   "metadata": {},
   "source": [
    "<b style=\"color:red\">- We don't have a lot of data here and it looks roughly the same so we're going to ignore this for now</b>\n",
    "\n",
    "### Difference in appointment and schedule vs success"
   ]
  },
  {
   "cell_type": "code",
   "execution_count": 31,
   "metadata": {},
   "outputs": [],
   "source": [
    "df['difference'] = df['appointment_day'].dt.date - df['scheduled_day'].dt.date"
   ]
  },
  {
   "cell_type": "code",
   "execution_count": 32,
   "metadata": {},
   "outputs": [
    {
     "data": {
      "text/plain": [
       "([<matplotlib.axis.XTick at 0x11413cb38>,\n",
       "  <matplotlib.axis.XTick at 0x1150e27f0>,\n",
       "  <matplotlib.axis.XTick at 0x11415bc88>,\n",
       "  <matplotlib.axis.XTick at 0x1a22f82860>,\n",
       "  <matplotlib.axis.XTick at 0x1a22f82fd0>],\n",
       " <a list of 5 Text xticklabel objects>)"
      ]
     },
     "execution_count": 32,
     "metadata": {},
     "output_type": "execute_result"
    },
    {
     "data": {
      "image/png": "[encoded data removed]",
      "text/plain": [
       "<matplotlib.figure.Figure at 0x114c994a8>"
      ]
     },
     "metadata": {},
     "output_type": "display_data"
    }
   ],
   "source": [
    "difference = generate_simple_analysis(df, 'difference')\n",
    "ax = difference[['%_success']].plot(figsize=(17, 5))\n",
    "# difference['index'] = difference.index\n",
    "difference.reset_index(inplace = True)\n",
    "\n",
    "# Remove some dummy data\n",
    "difference.drop([0, 1], inplace = True)\n",
    "\n",
    "# Remove some Nans\n",
    "difference.fillna(0, inplace = True)\n",
    "\n",
    "plt.title(\"Difference in Appointment and Schedule time vs Success\", fontsize=18)\n",
    "plt.ylabel(\"Percent\")\n",
    "plt.xlabel(\"Difference in Days\")\n",
    "\n",
    "# Display in quartiles\n",
    "quartile = (difference.count()/4)[0]\n",
    "loc = [0, quartile, quartile * 2, quartile * 3, quartile * 4]\n",
    "plt.xticks(loc, loc)"
   ]
  },
  {
   "cell_type": "markdown",
   "metadata": {},
   "source": [
    "<b style=\"color:red\">Data is spread out everywhere but doesn't look like there is much of a difference. Before we move on lets try grouping first</b>"
   ]
  },
  {
   "cell_type": "code",
   "execution_count": 33,
   "metadata": {},
   "outputs": [],
   "source": [
    "# Convert into a number\n",
    "difference['difference'] = (difference['difference'] / np.timedelta64(1, 'D')).astype(int)"
   ]
  },
  {
   "cell_type": "code",
   "execution_count": 34,
   "metadata": {},
   "outputs": [
    {
     "data": {
      "text/plain": [
       "count    129.000000\n",
       "mean      67.294574\n",
       "std       43.180110\n",
       "min        0.000000\n",
       "25%       32.000000\n",
       "50%       64.000000\n",
       "75%       96.000000\n",
       "max      179.000000\n",
       "Name: difference, dtype: float64"
      ]
     },
     "execution_count": 34,
     "metadata": {},
     "output_type": "execute_result"
    }
   ],
   "source": [
    "# We want to divide into ~10 blocks. We should find the count, max and then figure out the groups\n",
    "difference['difference'].describe()"
   ]
  },
  {
   "cell_type": "code",
   "execution_count": 35,
   "metadata": {},
   "outputs": [
    {
     "data": {
      "text/plain": [
       "Text(0.5,0,'Difference in days groupped')"
      ]
     },
     "execution_count": 35,
     "metadata": {},
     "output_type": "execute_result"
    },
    {
     "data": {
      "image/png": "[encoded data removed]",
      "text/plain": [
       "<matplotlib.figure.Figure at 0x1150d7cf8>"
      ]
     },
     "metadata": {},
     "output_type": "display_data"
    }
   ],
   "source": [
    "# Looks like 179 is the max, so we'll divide by 10 which gives ~17 each\n",
    "# However based on the previous chart there's more data at the beginning so lets group by 10 to start\n",
    "\n",
    "# We cut it to groups of 10\n",
    "cut = difference.groupby(pd.cut(difference['difference'], np.arange(0, 179, 10))).sum()\n",
    "cut['total'] = cut[0] + cut[1]\n",
    "cut['%_success'] = cut[1] / cut['total']\n",
    "\n",
    "ax = cut[['%_success']].plot.bar(figsize=(17,5))\n",
    "\n",
    "plt.title(\"Days difference vs Success\", fontsize=18)\n",
    "plt.ylabel(\"Percent\")\n",
    "plt.xlabel(\"Difference in days groupped\")"
   ]
  },
  {
   "cell_type": "markdown",
   "metadata": {},
   "source": [
    "<b style='color:green'>- We can see there's some changes towards the end of the spectrum. It may be optimal to book between 110-130 days but avoid it afterwards</b>"
   ]
  },
  {
   "cell_type": "markdown",
   "metadata": {},
   "source": [
    "## 6. Repeat patients\n",
    "Are repeat patients more likely to be successful?"
   ]
  },
  {
   "cell_type": "code",
   "execution_count": 36,
   "metadata": {},
   "outputs": [
    {
     "data": {
      "text/plain": [
       "62190"
      ]
     },
     "execution_count": 36,
     "metadata": {},
     "output_type": "execute_result"
    }
   ],
   "source": [
    "# number of unique patients\n",
    "len(df.patient_id.unique())"
   ]
  },
  {
   "cell_type": "code",
   "execution_count": 37,
   "metadata": {},
   "outputs": [
    {
     "data": {
      "text/plain": [
       "110327"
      ]
     },
     "execution_count": 37,
     "metadata": {},
     "output_type": "execute_result"
    }
   ],
   "source": [
    "# Total bookings\n",
    "df.patient_id.count()"
   ]
  },
  {
   "cell_type": "code",
   "execution_count": 38,
   "metadata": {},
   "outputs": [],
   "source": [
    "# We can see there are patients who have booked more than once\n",
    "df['repeat'] = df['patient_id'].duplicated()\n",
    "\n",
    "# We only want the last booking of repeat customers\n",
    "df.drop_duplicates(subset = 'patient_id', keep = 'last', inplace = True)"
   ]
  },
  {
   "cell_type": "code",
   "execution_count": 39,
   "metadata": {},
   "outputs": [
    {
     "data": {
      "text/plain": [
       "Text(0.5,0,'Repeat customer or not')"
      ]
     },
     "execution_count": 39,
     "metadata": {},
     "output_type": "execute_result"
    },
    {
     "data": {
      "image/png": "[encoded data removed]",
      "text/plain": [
       "<matplotlib.figure.Figure at 0x11415b5f8>"
      ]
     },
     "metadata": {},
     "output_type": "display_data"
    }
   ],
   "source": [
    "repeat = generate_simple_analysis(df, 'repeat')\n",
    "repeat[['%_success']].plot.bar(figsize=(17, 5))\n",
    "\n",
    "plt.title(\"Repeat bookings vs Succss\", fontsize=18)\n",
    "plt.ylabel(\"Percentage\")\n",
    "plt.xlabel(\"Repeat customer or not\")"
   ]
  },
  {
   "cell_type": "markdown",
   "metadata": {},
   "source": [
    "<b style='color:red'>There isn't really a difference in success for a repeat patient</b>"
   ]
  },
  {
   "cell_type": "markdown",
   "metadata": {},
   "source": [
    "## Multi Variable Analysis\n",
    "The following we have seen have impact on the success rate and we will dive deeper into them:\n",
    "- Day of appointment\n",
    "- Neighbourhood\n",
    "- Groupped age"
   ]
  },
  {
   "cell_type": "code",
   "execution_count": 40,
   "metadata": {},
   "outputs": [],
   "source": [
    "success = df[df['success'] == 1].copy()"
   ]
  },
  {
   "cell_type": "markdown",
   "metadata": {},
   "source": [
    "### Day of appointment and Neighbourhood Success Rate\n",
    "Based on the previous data, can we combine the two and infer something? So for example, will Santa Cecília and Santos Dumont on a Thursday have a higher success rate than Ilhas Oceânicas De Trindade, Parque and Illha Do Boi on a Friday or Saturday?\n"
   ]
  },
  {
   "cell_type": "code",
   "execution_count": 41,
   "metadata": {},
   "outputs": [
    {
     "data": {
      "text/plain": [
       "Text(0.5,1,'High Success Rate neighbourhood and appointment vs success')"
      ]
     },
     "execution_count": 41,
     "metadata": {},
     "output_type": "execute_result"
    },
    {
     "data": {
      "image/png": "[encoded data removed]",
      "text/plain": [
       "<matplotlib.figure.Figure at 0x1a22ee5128>"
      ]
     },
     "metadata": {},
     "output_type": "display_data"
    }
   ],
   "source": [
    "a1 = success.groupby(['neighbourhood', success.appointment_day.dt.dayofweek]).count()['patient_id'] \n",
    "a1 = a1.unstack(level = 1)\n",
    "\n",
    "a1.fillna(0, inplace = True)\n",
    "a1['total'] = a1[0] + a1[1] + a1[2] + a1[3] + a1[4] + a1[5]\n",
    "\n",
    "for column in a1:\n",
    "    a1[column] = a1[column] / a1['total']\n",
    "\n",
    "a1.drop('total', inplace = True, axis = 1)\n",
    "\n",
    "a1[a1.index.isin(['Santa Cecília', 'Santos Dumont', 'Ilhas Oceânicas De Trindade', 'Ilha Do Frade'])].plot.bar(figsize = (17, 5))\n",
    "plt.ylabel('% of success')\n",
    "\n",
    "plt.title(\"High Success Rate neighbourhood and appointment vs success\", fontsize=18)"
   ]
  },
  {
   "cell_type": "markdown",
   "metadata": {},
   "source": [
    "<a id='conclusion'></a>\n",
    "# Conclusions\n",
    "\n",
    "From all the analysis we can draw the following conclusions:\n",
    "1. There are some neighbourhoods that have a higher success rate at booking. Namely Santa Cecília, Santos Dumont, Ilhas Oceânicas De Trindade and Ilha Do Frade\n",
    "2. That as the days of the week starts it trends up until Thursday which is the peak until falling down to its lowest levels on Friday and Saturday\n",
    "3. There may be some correlation between the days between bookings (i.e. booking date - when they booked). The success rate is fairly stable but rises to the highest during the 110-130 day period before dropping significantly afterwards. It seems to rise at the 160 day point again though more analysis needs to be done on this\n",
    "4. There is a slight trend in regards to age and success. With the lowest group being 21-30 and the highest being 61-70"
   ]
  },
  {
   "cell_type": "markdown",
   "metadata": {},
   "source": [
    "### Notes - Limitations\n",
    "There are some limitations with the dataset from observations above. \n",
    "- For time based data we are missing a larger data set. We only have 3 months worth of data so are lacking over a period of years as well as missing the ability to look at things from a seasonal perspective\n",
    "- We were unable to really find any trends between the 2 variables and success"
   ]
  }
 ],
 "metadata": {
  "kernelspec": {
   "display_name": "Python [default]",
   "language": "python",
   "name": "python3"
  },
  "language_info": {
   "codemirror_mode": {
    "name": "ipython",
    "version": 3
   },
   "file_extension": ".py",
   "mimetype": "text/x-python",
   "name": "python",
   "nbconvert_exporter": "python",
   "pygments_lexer": "ipython3",
   "version": "3.6.5"
  }
 },
 "nbformat": 4,
 "nbformat_minor": 2
}
